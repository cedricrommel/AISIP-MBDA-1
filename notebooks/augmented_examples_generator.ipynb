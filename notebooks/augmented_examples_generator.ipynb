{
 "cells": [
  {
   "cell_type": "code",
   "execution_count": 1,
   "id": "7a6acbe6",
   "metadata": {},
   "outputs": [],
   "source": [
    "from typing import List\n",
    "\n",
    "from tqdm import tqdm\n",
    "import numpy as np\n",
    "from nilearn.datasets import fetch_neurovault\n",
    "from nibabel import Nifti1Image\n",
    "from nilearn import plotting\n",
    "from torchio import transforms\n",
    "import torchio as tio\n",
    "\n",
    "from ai4sipmbda.utils import fetching, difumo_utils"
   ]
  },
  {
   "cell_type": "code",
   "execution_count": 3,
   "id": "b797594b",
   "metadata": {},
   "outputs": [
    {
     "name": "stdout",
     "output_type": "stream",
     "text": [
      "3 images found on local disk.\n"
     ]
    }
   ],
   "source": [
    "data = fetching.fetch_nv(\"/storage/store2/data/\", max_images=3)"
   ]
  },
  {
   "cell_type": "code",
   "execution_count": 7,
   "id": "7a5f8f32",
   "metadata": {},
   "outputs": [
    {
     "data": {
      "text/plain": [
       "sklearn.utils.Bunch"
      ]
     },
     "execution_count": 7,
     "metadata": {},
     "output_type": "execute_result"
    }
   ],
   "source": [
    "type(data)"
   ]
  },
  {
   "cell_type": "code",
   "execution_count": 4,
   "id": "443aee84",
   "metadata": {},
   "outputs": [],
   "source": [
    "AUGMENTATIONS = {\n",
    "        \"RandomElasticDeformation\": tio.RandomElasticDeformation(num_control_points = 16, max_displacement = 2),\n",
    "        \"RandomMotion\":tio.RandomMotion(degrees = 0.2, translation = 0.2, num_transforms = 2),\n",
    "        \"RandomGhosting\": tio.RandomGhosting(num_ghosts = 1, intensity = 0.02, restore = 1.0),\n",
    "        \"RandomSpike\": tio.RandomSpike(num_spikes = 2, intensity = 1.15),\n",
    "        \"RandomBiasField\": tio.RandomBiasField(order = 1,coefficients=0.05 ),\n",
    "        \"RandomBlur\": tio.RandomBlur(std = 1.05),\n",
    "        \"RandomNoise\":tio.RandomNoise(mean = 0.3, std = 0.5),\n",
    "        \"RandomGamma\": tio.RandomGamma(log_gamma=0.075),\n",
    "        \"RandomFlip\": tio.RandomFlip(flip_probability=1.0),\n",
    "        \"None\": None,\n",
    "    }"
   ]
  },
  {
   "cell_type": "code",
   "execution_count": 6,
   "id": "237c6b51",
   "metadata": {},
   "outputs": [],
   "source": [
    "def create_augmentation(\n",
    "    aug_names: List[str],\n",
    ") -> transforms.Transform:\n",
    "    augmentation_list = [AUGMENTATIONS[aug] for aug in aug_names]\n",
    "    return tio.transforms.OneOf(augmentation_list)"
   ]
  },
  {
   "cell_type": "code",
   "execution_count": 7,
   "id": "f624199b",
   "metadata": {},
   "outputs": [],
   "source": [
    "flip = create_augmentation([\"RandomFlip\"])"
   ]
  },
  {
   "cell_type": "code",
   "execution_count": 9,
   "id": "e75effd3",
   "metadata": {},
   "outputs": [],
   "source": [
    "Z_inv = np.load(\"hcp900_difumo_matrices/Zinv.npy\")\n",
    "mask = np.load(\"hcp900_difumo_matrices/mask.npy\")"
   ]
  },
  {
   "cell_type": "code",
   "execution_count": 13,
   "id": "94f65005",
   "metadata": {},
   "outputs": [],
   "source": [
    "def transform_based_augmentation(augmentation, images_paths, Y=None, nb_fakes=10):\n",
    "    X = list()\n",
    "    for index, image_path in tqdm(enumerate(images_paths)):\n",
    "        image_tio = tio.ScalarImage(image_path)\n",
    "\n",
    "        for _ in range(nb_fakes):\n",
    "            # transform\n",
    "            trf_img_tio = augmentation(image_tio)\n",
    "\n",
    "            # project\n",
    "            trf_difumo_vec = Z_inv.dot(trf_img_tio.data.squeeze()[mask])\n",
    "\n",
    "            X.append(trf_difumo_vec)  # XXX Shoudl transform here?\n",
    "\n",
    "    return np.vstack(X)"
   ]
  },
  {
   "cell_type": "code",
   "execution_count": 14,
   "id": "06b3090e",
   "metadata": {},
   "outputs": [
    {
     "name": "stderr",
     "output_type": "stream",
     "text": [
      "3it [00:03,  1.15s/it]\n"
     ]
    }
   ],
   "source": [
    "augmented_X = transform_based_augmentation(flip, data[\"images\"], Y=None, nb_fakes=2)"
   ]
  },
  {
   "cell_type": "code",
   "execution_count": 15,
   "id": "2c5691e2",
   "metadata": {},
   "outputs": [
    {
     "data": {
      "text/plain": [
       "(6, 1024)"
      ]
     },
     "execution_count": 15,
     "metadata": {},
     "output_type": "execute_result"
    }
   ],
   "source": [
    "augmented_X.shape"
   ]
  },
  {
   "cell_type": "code",
   "execution_count": null,
   "id": "1b17ef96",
   "metadata": {},
   "outputs": [],
   "source": []
  }
 ],
 "metadata": {
  "kernelspec": {
   "display_name": "Python 3",
   "language": "python",
   "name": "python3"
  },
  "language_info": {
   "codemirror_mode": {
    "name": "ipython",
    "version": 3
   },
   "file_extension": ".py",
   "mimetype": "text/x-python",
   "name": "python",
   "nbconvert_exporter": "python",
   "pygments_lexer": "ipython3",
   "version": "3.8.6"
  }
 },
 "nbformat": 4,
 "nbformat_minor": 5
}
